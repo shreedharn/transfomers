{
 "cells": [
  {
   "cell_type": "markdown",
   "metadata": {},
   "source": [
    "# Optimization for Neural Networks\n",
    "\n",
    "This notebook contains PyTorch examples demonstrating optimization concepts essential for understanding neural networks.\n",
    "\n",
    "## Table of Contents\n",
    "1. [Gradient Descent](#gradient-descent)\n",
    "2. [Adam Optimizer](#adam-optimizer)"
   ]
  },
  {
   "cell_type": "code",
   "execution_count": null,
   "metadata": {},
   "outputs": [],
   "source": [
    "import torch\n",
    "import numpy as np\n",
    "import matplotlib.pyplot as plt"
   ]
  },
  {
   "cell_type": "markdown",
   "metadata": {},
   "source": [
    "## Gradient Descent\n",
    "\n",
    "**Formula:** $\\theta_{t+1} = \\theta_t - \\alpha \\nabla_\\theta \\mathcal{L}(\\theta_t)$\n",
    "\n",
    "Fundamental learning algorithm for neural networks."
   ]
  },
  {
   "cell_type": "code",
   "execution_count": null,
   "metadata": {},
   "outputs": [],
   "source": [
    "# Manual gradient descent\n",
    "def manual_gradient_descent():\n",
    "    x = torch.tensor([0.0, 0.0], requires_grad=True)\n",
    "    learning_rate = 0.1\n",
    "    \n",
    "    for step in range(50):\n",
    "        loss = x[0]**2 + x[1]**2  # Simple quadratic function\n",
    "        loss.backward()\n",
    "        \n",
    "        with torch.no_grad():\n",
    "            x -= learning_rate * x.grad\n",
    "            x.grad.zero_()\n",
    "        \n",
    "        if step % 10 == 0:\n",
    "            print(f\"Step {step}: x = {x.detach().numpy()}, loss = {loss.item():.6f}\")\n",
    "\n",
    "manual_gradient_descent()\n",
    "\n",
    "# Comparing optimizers\n",
    "model = torch.nn.Linear(10, 1)\n",
    "target = torch.randn(100, 1)\n",
    "data = torch.randn(100, 10)\n",
    "\n",
    "# SGD vs Adam comparison\n",
    "losses_sgd = []\n",
    "losses_adam = []\n",
    "\n",
    "for optimizer_class, losses_list in [(torch.optim.SGD, losses_sgd), (torch.optim.Adam, losses_adam)]:\n",
    "    model_copy = torch.nn.Linear(10, 1)\n",
    "    model_copy.load_state_dict(model.state_dict())  # Same initialization\n",
    "    optimizer = optimizer_class(model_copy.parameters(), lr=0.01)\n",
    "    \n",
    "    for epoch in range(100):\n",
    "        optimizer.zero_grad()\n",
    "        loss = torch.nn.functional.mse_loss(model_copy(data), target)\n",
    "        loss.backward()\n",
    "        optimizer.step()\n",
    "        losses_list.append(loss.item())\n",
    "\n",
    "print(f\"Final loss - SGD: {losses_sgd[-1]:.6f}, Adam: {losses_adam[-1]:.6f}\")"
   ]
  },
  {
   "cell_type": "markdown",
   "metadata": {},
   "source": [
    "## Adam Optimizer\n",
    "\n",
    "**Formula:** $m_t = \\beta_1 m_{t-1} + (1-\\beta_1)g_t$, $v_t = \\beta_2 v_{t-1} + (1-\\beta_2)g_t^2$, $\\theta_t = \\theta_{t-1} - \\frac{\\alpha}{\\sqrt{v_t} + \\epsilon}\\hat{m}_t$\n",
    "\n",
    "Adaptive learning rate optimizer with momentum."
   ]
  },
  {
   "cell_type": "code",
   "execution_count": null,
   "metadata": {},
   "outputs": [],
   "source": [
    "# Manual Adam implementation\n",
    "class ManualAdam:\n",
    "    def __init__(self, params, lr=0.001, beta1=0.9, beta2=0.999, eps=1e-8):\n",
    "        self.params = list(params)\n",
    "        self.lr = lr\n",
    "        self.beta1 = beta1\n",
    "        self.beta2 = beta2\n",
    "        self.eps = eps\n",
    "        self.t = 0\n",
    "        self.m = [torch.zeros_like(p) for p in self.params]\n",
    "        self.v = [torch.zeros_like(p) for p in self.params]\n",
    "    \n",
    "    def step(self):\n",
    "        self.t += 1\n",
    "        for i, param in enumerate(self.params):\n",
    "            if param.grad is None:\n",
    "                continue\n",
    "            \n",
    "            # Update momentum and variance\n",
    "            self.m[i] = self.beta1 * self.m[i] + (1 - self.beta1) * param.grad\n",
    "            self.v[i] = self.beta2 * self.v[i] + (1 - self.beta2) * param.grad**2\n",
    "            \n",
    "            # Bias correction\n",
    "            m_hat = self.m[i] / (1 - self.beta1**self.t)\n",
    "            v_hat = self.v[i] / (1 - self.beta2**self.t)\n",
    "            \n",
    "            # Update parameters\n",
    "            param.data -= self.lr * m_hat / (torch.sqrt(v_hat) + self.eps)\n",
    "\n",
    "# Compare manual vs PyTorch Adam\n",
    "model1 = torch.nn.Linear(5, 1)\n",
    "model2 = torch.nn.Linear(5, 1)\n",
    "model2.load_state_dict(model1.state_dict())\n",
    "\n",
    "manual_adam = ManualAdam(model1.parameters())\n",
    "pytorch_adam = torch.optim.Adam(model2.parameters())\n",
    "\n",
    "x = torch.randn(32, 5)\n",
    "y = torch.randn(32, 1)\n",
    "\n",
    "for epoch in range(10):\n",
    "    # Manual Adam\n",
    "    loss1 = torch.nn.functional.mse_loss(model1(x), y)\n",
    "    model1.zero_grad()\n",
    "    loss1.backward()\n",
    "    manual_adam.step()\n",
    "    \n",
    "    # PyTorch Adam\n",
    "    loss2 = torch.nn.functional.mse_loss(model2(x), y)\n",
    "    pytorch_adam.zero_grad()\n",
    "    loss2.backward()\n",
    "    pytorch_adam.step()\n",
    "    \n",
    "    if epoch % 3 == 0:\n",
    "        print(f\"Epoch {epoch}: Manual Adam loss: {loss1:.6f}, PyTorch Adam loss: {loss2:.6f}\")"
   ]
  }
 ],
 "metadata": {
  "kernelspec": {
   "display_name": "Python 3",
   "language": "python",
   "name": "python3"
  },
  "language_info": {
   "codemirror_mode": {
    "name": "ipython",
    "version": 3
   },
   "file_extension": ".py",
   "name": "python",
   "nbconvert_exporter": "python",
   "pygments_lexer": "ipython3",
   "version": "3.8.5"
  }
 },
 "nbformat": 4,
 "nbformat_minor": 4
}