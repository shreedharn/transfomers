{
 "cells": [
  {
   "cell_type": "markdown",
   "metadata": {},
   "source": [
    "# Transformer Components for Neural Networks\n",
    "\n",
    "This notebook contains PyTorch examples demonstrating transformer components.\n",
    "\n",
    "## Table of Contents\n",
    "1. [Layer Normalization](#layer-normalization)\n",
    "2. [Residual Connections](#residual-connections)"
   ]
  },
  {
   "cell_type": "code",
   "execution_count": null,
   "metadata": {},
   "outputs": [],
   "source": [
    "import torch\n",
    "import numpy as np\n",
    "import matplotlib.pyplot as plt"
   ]
  },
  {
   "cell_type": "markdown",
   "metadata": {},
   "source": [
    "## Layer Normalization\n",
    "\n",
    "**Formula:** $\\text{LayerNorm}(x) = \\frac{x - \\mu}{\\sigma} \\odot \\gamma + \\beta$\n",
    "\n",
    "Normalizes activations within each sample."
   ]
  },
  {
   "cell_type": "code",
   "execution_count": null,
   "metadata": {},
   "outputs": [],
   "source": [
    "# Manual layer normalization\n",
    "def manual_layer_norm(x, eps=1e-5):\n",
    "    mean = x.mean(dim=-1, keepdim=True)\n",
    "    std = x.std(dim=-1, keepdim=True)\n",
    "    return (x - mean) / (std + eps)\n",
    "\n",
    "# Compare with PyTorch implementation\n",
    "x = torch.randn(2, 5, 10)  # (batch, seq_len, d_model)\n",
    "manual_norm = manual_layer_norm(x)\n",
    "pytorch_norm = torch.nn.functional.layer_norm(x, x.shape[-1:])\n",
    "\n",
    "print(f\"Manual norm mean: {manual_norm.mean(dim=-1)}\")  # Should be ~0\n",
    "print(f\"Manual norm std: {manual_norm.std(dim=-1)}\")    # Should be ~1\n",
    "print(f\"Difference: {torch.norm(manual_norm - pytorch_norm):.6f}\")"
   ]
  },
  {
   "cell_type": "markdown",
   "metadata": {},
   "source": [
    "## Residual Connections\n",
    "\n",
    "**Formula:** $\\mathbf{h}_{l+1} = \\mathbf{h}_l + F(\\mathbf{h}_l)$\n",
    "\n",
    "Creates gradient highways for deep networks."
   ]
  },
  {
   "cell_type": "code",
   "execution_count": null,
   "metadata": {},
   "outputs": [],
   "source": [
    "class ResidualBlock(torch.nn.Module):\n",
    "    def __init__(self, d_model):\n",
    "        super().__init__()\n",
    "        self.linear1 = torch.nn.Linear(d_model, d_model)\n",
    "        self.linear2 = torch.nn.Linear(d_model, d_model)\n",
    "        self.activation = torch.nn.ReLU()\n",
    "    \n",
    "    def forward(self, x):\n",
    "        residual = x\n",
    "        out = self.activation(self.linear1(x))\n",
    "        out = self.linear2(out)\n",
    "        return out + residual  # Residual connection\n",
    "\n",
    "# Demonstrate gradient flow\n",
    "deep_net = torch.nn.Sequential(*[ResidualBlock(64) for _ in range(20)])\n",
    "x = torch.randn(1, 64, requires_grad=True)\n",
    "output = deep_net(x)\n",
    "loss = output.sum()\n",
    "loss.backward()\n",
    "\n",
    "print(f\"Input gradient norm: {torch.norm(x.grad):.3f}\")\n",
    "print(\"Residual connections enable training of very deep networks\")"
   ]
  }
 ],
 "metadata": {
  "kernelspec": {
   "display_name": "Python 3",
   "language": "python",
   "name": "python3"
  },
  "language_info": {
   "codemirror_mode": {
    "name": "ipython",
    "version": 3
   },
   "file_extension": ".py",
   "name": "python",
   "nbconvert_exporter": "python",
   "pygments_lexer": "ipython3",
   "version": "3.8.5"
  }
 },
 "nbformat": 4,
 "nbformat_minor": 4
}